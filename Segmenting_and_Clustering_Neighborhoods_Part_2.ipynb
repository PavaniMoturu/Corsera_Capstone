{
  "nbformat": 4,
  "nbformat_minor": 0,
  "metadata": {
    "kernelspec": {
      "name": "python3",
      "display_name": "Python 3.7",
      "language": "python"
    },
    "language_info": {
      "name": "python",
      "version": "3.7.9",
      "mimetype": "text/x-python",
      "codemirror_mode": {
        "name": "ipython",
        "version": 3
      },
      "pygments_lexer": "ipython3",
      "nbconvert_exporter": "python",
      "file_extension": ".py"
    },
    "colab": {
      "name": "Segmenting and Clustering Neighborhoods Part-2.ipynb",
      "provenance": [],
      "include_colab_link": true
    }
  },
  "cells": [
    {
      "cell_type": "markdown",
      "metadata": {
        "id": "view-in-github",
        "colab_type": "text"
      },
      "source": [
        "<a href=\"https://colab.research.google.com/github/PavaniMoturu/Corsera_Capstone/blob/main/Segmenting_and_Clustering_Neighborhoods_Part_2.ipynb\" target=\"_parent\"><img src=\"https://colab.research.google.com/assets/colab-badge.svg\" alt=\"Open In Colab\"/></a>"
      ]
    },
    {
      "cell_type": "markdown",
      "metadata": {
        "id": "Ru5R71tzr6L1"
      },
      "source": [
        "# Segmenting and Clustering Neighborhoods in Toronto | Part-2"
      ]
    },
    {
      "cell_type": "markdown",
      "metadata": {
        "id": "anOhskX6r6L1"
      },
      "source": [
        "#### Adding Latitude and Longitude Co-ordinates to the DataFrame"
      ]
    },
    {
      "cell_type": "markdown",
      "metadata": {
        "id": "-AVG38wwr6L2"
      },
      "source": [
        "Installing Library"
      ]
    },
    {
      "cell_type": "code",
      "metadata": {
        "id": "OccNF1TLr6L3",
        "outputId": "4340df66-3c6d-418e-eedf-c3985e3d90ff"
      },
      "source": [
        "!pip install geocoder"
      ],
      "execution_count": null,
      "outputs": [
        {
          "output_type": "stream",
          "text": [
            "Requirement already satisfied: geocoder in c:\\programdata\\anaconda3\\lib\\site-packages (1.38.1)\n",
            "Requirement already satisfied: ratelim in c:\\programdata\\anaconda3\\lib\\site-packages (from geocoder) (0.1.6)\n",
            "Requirement already satisfied: six in c:\\users\\anonymous\\appdata\\roaming\\python\\python37\\site-packages (from geocoder) (1.12.0)\n",
            "Requirement already satisfied: requests in c:\\programdata\\anaconda3\\lib\\site-packages (from geocoder) (2.21.0)\n",
            "Requirement already satisfied: future in c:\\programdata\\anaconda3\\lib\\site-packages (from geocoder) (0.17.1)\n",
            "Requirement already satisfied: click in c:\\programdata\\anaconda3\\lib\\site-packages (from geocoder) (7.0)\n",
            "Requirement already satisfied: decorator in c:\\programdata\\anaconda3\\lib\\site-packages (from ratelim->geocoder) (4.3.0)\n",
            "Requirement already satisfied: chardet<3.1.0,>=3.0.2 in c:\\programdata\\anaconda3\\lib\\site-packages (from requests->geocoder) (3.0.4)\n",
            "Requirement already satisfied: idna<2.9,>=2.5 in c:\\programdata\\anaconda3\\lib\\site-packages (from requests->geocoder) (2.8)\n",
            "Requirement already satisfied: urllib3<1.25,>=1.21.1 in c:\\programdata\\anaconda3\\lib\\site-packages (from requests->geocoder) (1.24.1)\n",
            "Requirement already satisfied: certifi>=2017.4.17 in c:\\programdata\\anaconda3\\lib\\site-packages (from requests->geocoder) (2018.11.29)\n"
          ],
          "name": "stdout"
        }
      ]
    },
    {
      "cell_type": "markdown",
      "metadata": {
        "id": "_BOK9ATSr6L6"
      },
      "source": [
        "Importing Libraries"
      ]
    },
    {
      "cell_type": "code",
      "metadata": {
        "id": "tfNa_HV4r6L6",
        "outputId": "2f5e3f8f-66f7-4c70-9cbd-54fa69d8cb37"
      },
      "source": [
        "import pandas as pd\n",
        "import numpy as np\n",
        "import geocoder\n",
        "print(\"Imported!\")"
      ],
      "execution_count": null,
      "outputs": [
        {
          "output_type": "stream",
          "text": [
            "Imported!\n"
          ],
          "name": "stdout"
        }
      ]
    },
    {
      "cell_type": "markdown",
      "metadata": {
        "id": "KCRpebxKr6L9"
      },
      "source": [
        "Reading the Toronto.csv which created on Part 1 Notebook"
      ]
    },
    {
      "cell_type": "code",
      "metadata": {
        "id": "yFIecg9Pr6L-",
        "outputId": "650c7a77-d0fa-44c8-8148-c7cd4db1f242"
      },
      "source": [
        "df = pd.read_csv('toronto.csv')\n",
        "df.head()"
      ],
      "execution_count": null,
      "outputs": [
        {
          "output_type": "execute_result",
          "data": {
            "text/html": [
              "<div>\n",
              "<style scoped>\n",
              "    .dataframe tbody tr th:only-of-type {\n",
              "        vertical-align: middle;\n",
              "    }\n",
              "\n",
              "    .dataframe tbody tr th {\n",
              "        vertical-align: top;\n",
              "    }\n",
              "\n",
              "    .dataframe thead th {\n",
              "        text-align: right;\n",
              "    }\n",
              "</style>\n",
              "<table border=\"1\" class=\"dataframe\">\n",
              "  <thead>\n",
              "    <tr style=\"text-align: right;\">\n",
              "      <th></th>\n",
              "      <th>Postalcode</th>\n",
              "      <th>Borough</th>\n",
              "      <th>Neighborhood</th>\n",
              "    </tr>\n",
              "  </thead>\n",
              "  <tbody>\n",
              "    <tr>\n",
              "      <th>0</th>\n",
              "      <td>M1B</td>\n",
              "      <td>Scarborough</td>\n",
              "      <td>Rouge, Malvern</td>\n",
              "    </tr>\n",
              "    <tr>\n",
              "      <th>1</th>\n",
              "      <td>M1C</td>\n",
              "      <td>Scarborough</td>\n",
              "      <td>Highland Creek, Rouge Hill, Port Union</td>\n",
              "    </tr>\n",
              "    <tr>\n",
              "      <th>2</th>\n",
              "      <td>M1E</td>\n",
              "      <td>Scarborough</td>\n",
              "      <td>Guildwood, Morningside, West Hill</td>\n",
              "    </tr>\n",
              "    <tr>\n",
              "      <th>3</th>\n",
              "      <td>M1G</td>\n",
              "      <td>Scarborough</td>\n",
              "      <td>Woburn</td>\n",
              "    </tr>\n",
              "    <tr>\n",
              "      <th>4</th>\n",
              "      <td>M1H</td>\n",
              "      <td>Scarborough</td>\n",
              "      <td>Cedarbrae</td>\n",
              "    </tr>\n",
              "  </tbody>\n",
              "</table>\n",
              "</div>"
            ],
            "text/plain": [
              "  Postalcode      Borough                            Neighborhood\n",
              "0        M1B  Scarborough                          Rouge, Malvern\n",
              "1        M1C  Scarborough  Highland Creek, Rouge Hill, Port Union\n",
              "2        M1E  Scarborough       Guildwood, Morningside, West Hill\n",
              "3        M1G  Scarborough                                  Woburn\n",
              "4        M1H  Scarborough                               Cedarbrae"
            ]
          },
          "metadata": {
            "tags": []
          },
          "execution_count": 3
        }
      ]
    },
    {
      "cell_type": "code",
      "metadata": {
        "id": "fPVYMmVpr6MA",
        "outputId": "d2695dd2-f1ee-45f4-e9f8-11729bf5961b"
      },
      "source": [
        "print(df.shape)\n",
        "df.describe()"
      ],
      "execution_count": null,
      "outputs": [
        {
          "output_type": "stream",
          "text": [
            "(103, 3)\n"
          ],
          "name": "stdout"
        },
        {
          "output_type": "execute_result",
          "data": {
            "text/html": [
              "<div>\n",
              "<style scoped>\n",
              "    .dataframe tbody tr th:only-of-type {\n",
              "        vertical-align: middle;\n",
              "    }\n",
              "\n",
              "    .dataframe tbody tr th {\n",
              "        vertical-align: top;\n",
              "    }\n",
              "\n",
              "    .dataframe thead th {\n",
              "        text-align: right;\n",
              "    }\n",
              "</style>\n",
              "<table border=\"1\" class=\"dataframe\">\n",
              "  <thead>\n",
              "    <tr style=\"text-align: right;\">\n",
              "      <th></th>\n",
              "      <th>Postalcode</th>\n",
              "      <th>Borough</th>\n",
              "      <th>Neighborhood</th>\n",
              "    </tr>\n",
              "  </thead>\n",
              "  <tbody>\n",
              "    <tr>\n",
              "      <th>count</th>\n",
              "      <td>103</td>\n",
              "      <td>103</td>\n",
              "      <td>103</td>\n",
              "    </tr>\n",
              "    <tr>\n",
              "      <th>unique</th>\n",
              "      <td>103</td>\n",
              "      <td>11</td>\n",
              "      <td>103</td>\n",
              "    </tr>\n",
              "    <tr>\n",
              "      <th>top</th>\n",
              "      <td>M4K</td>\n",
              "      <td>North York</td>\n",
              "      <td>Willowdale South</td>\n",
              "    </tr>\n",
              "    <tr>\n",
              "      <th>freq</th>\n",
              "      <td>1</td>\n",
              "      <td>24</td>\n",
              "      <td>1</td>\n",
              "    </tr>\n",
              "  </tbody>\n",
              "</table>\n",
              "</div>"
            ],
            "text/plain": [
              "       Postalcode     Borough      Neighborhood\n",
              "count         103         103               103\n",
              "unique        103          11               103\n",
              "top           M4K  North York  Willowdale South\n",
              "freq            1          24                 1"
            ]
          },
          "metadata": {
            "tags": []
          },
          "execution_count": 4
        }
      ]
    },
    {
      "cell_type": "code",
      "metadata": {
        "id": "4oREh7VPr6MD",
        "outputId": "87448978-cb71-4f11-acee-042c80fe0ad2"
      },
      "source": [
        "def get_latilong(postal_code):\n",
        "    lati_long_coords = None\n",
        "    while(lati_long_coords is None):\n",
        "        g = geocoder.arcgis('{}, Toronto, Ontario'.format(postal_code))\n",
        "        lati_long_coords = g.latlng\n",
        "    return lati_long_coords\n",
        "    \n",
        "get_latilong('M4G')"
      ],
      "execution_count": null,
      "outputs": [
        {
          "output_type": "execute_result",
          "data": {
            "text/plain": [
              "[43.70949500000006, -79.36398897099997]"
            ]
          },
          "metadata": {
            "tags": []
          },
          "execution_count": 5
        }
      ]
    },
    {
      "cell_type": "code",
      "metadata": {
        "id": "wjcby1S0r6MF"
      },
      "source": [
        "# Retrieving Postal Code Co-ordinates\n",
        "postal_codes = df['Postalcode']    \n",
        "coords = [ get_latilong(postal_code) for postal_code in postal_codes.tolist() ]"
      ],
      "execution_count": null,
      "outputs": []
    },
    {
      "cell_type": "code",
      "metadata": {
        "id": "U--NGiXVr6MI"
      },
      "source": [
        "# Adding Columns Latitude & Longitude\n",
        "df_coords = pd.DataFrame(coords, columns=['Latitude', 'Longitude'])\n",
        "df['Latitude'] = df_coords['Latitude']\n",
        "df['Longitude'] = df_coords['Longitude']"
      ],
      "execution_count": null,
      "outputs": []
    },
    {
      "cell_type": "code",
      "metadata": {
        "id": "GDr3RE62r6MK",
        "outputId": "3539cc83-25f0-4888-dab1-8d3b62116190"
      },
      "source": [
        "df[df.Postalcode == 'M5G']"
      ],
      "execution_count": null,
      "outputs": [
        {
          "output_type": "execute_result",
          "data": {
            "text/html": [
              "<div>\n",
              "<style scoped>\n",
              "    .dataframe tbody tr th:only-of-type {\n",
              "        vertical-align: middle;\n",
              "    }\n",
              "\n",
              "    .dataframe tbody tr th {\n",
              "        vertical-align: top;\n",
              "    }\n",
              "\n",
              "    .dataframe thead th {\n",
              "        text-align: right;\n",
              "    }\n",
              "</style>\n",
              "<table border=\"1\" class=\"dataframe\">\n",
              "  <thead>\n",
              "    <tr style=\"text-align: right;\">\n",
              "      <th></th>\n",
              "      <th>Postalcode</th>\n",
              "      <th>Borough</th>\n",
              "      <th>Neighborhood</th>\n",
              "      <th>Latitude</th>\n",
              "      <th>Longitude</th>\n",
              "    </tr>\n",
              "  </thead>\n",
              "  <tbody>\n",
              "    <tr>\n",
              "      <th>57</th>\n",
              "      <td>M5G</td>\n",
              "      <td>Downtown Toronto</td>\n",
              "      <td>Central Bay Street</td>\n",
              "      <td>43.656091</td>\n",
              "      <td>-79.38493</td>\n",
              "    </tr>\n",
              "  </tbody>\n",
              "</table>\n",
              "</div>"
            ],
            "text/plain": [
              "   Postalcode           Borough        Neighborhood   Latitude  Longitude\n",
              "57        M5G  Downtown Toronto  Central Bay Street  43.656091  -79.38493"
            ]
          },
          "metadata": {
            "tags": []
          },
          "execution_count": 8
        }
      ]
    },
    {
      "cell_type": "code",
      "metadata": {
        "id": "u54pBdXBr6MM",
        "outputId": "a24cba80-6d56-402d-a455-f3fb32f100ba"
      },
      "source": [
        "df.head(15)"
      ],
      "execution_count": null,
      "outputs": [
        {
          "output_type": "execute_result",
          "data": {
            "text/html": [
              "<div>\n",
              "<style scoped>\n",
              "    .dataframe tbody tr th:only-of-type {\n",
              "        vertical-align: middle;\n",
              "    }\n",
              "\n",
              "    .dataframe tbody tr th {\n",
              "        vertical-align: top;\n",
              "    }\n",
              "\n",
              "    .dataframe thead th {\n",
              "        text-align: right;\n",
              "    }\n",
              "</style>\n",
              "<table border=\"1\" class=\"dataframe\">\n",
              "  <thead>\n",
              "    <tr style=\"text-align: right;\">\n",
              "      <th></th>\n",
              "      <th>Postalcode</th>\n",
              "      <th>Borough</th>\n",
              "      <th>Neighborhood</th>\n",
              "      <th>Latitude</th>\n",
              "      <th>Longitude</th>\n",
              "    </tr>\n",
              "  </thead>\n",
              "  <tbody>\n",
              "    <tr>\n",
              "      <th>0</th>\n",
              "      <td>M1B</td>\n",
              "      <td>Scarborough</td>\n",
              "      <td>Rouge, Malvern</td>\n",
              "      <td>43.811525</td>\n",
              "      <td>-79.195517</td>\n",
              "    </tr>\n",
              "    <tr>\n",
              "      <th>1</th>\n",
              "      <td>M1C</td>\n",
              "      <td>Scarborough</td>\n",
              "      <td>Highland Creek, Rouge Hill, Port Union</td>\n",
              "      <td>43.785665</td>\n",
              "      <td>-79.158725</td>\n",
              "    </tr>\n",
              "    <tr>\n",
              "      <th>2</th>\n",
              "      <td>M1E</td>\n",
              "      <td>Scarborough</td>\n",
              "      <td>Guildwood, Morningside, West Hill</td>\n",
              "      <td>43.765815</td>\n",
              "      <td>-79.175193</td>\n",
              "    </tr>\n",
              "    <tr>\n",
              "      <th>3</th>\n",
              "      <td>M1G</td>\n",
              "      <td>Scarborough</td>\n",
              "      <td>Woburn</td>\n",
              "      <td>43.768369</td>\n",
              "      <td>-79.217590</td>\n",
              "    </tr>\n",
              "    <tr>\n",
              "      <th>4</th>\n",
              "      <td>M1H</td>\n",
              "      <td>Scarborough</td>\n",
              "      <td>Cedarbrae</td>\n",
              "      <td>43.769688</td>\n",
              "      <td>-79.239440</td>\n",
              "    </tr>\n",
              "    <tr>\n",
              "      <th>5</th>\n",
              "      <td>M1J</td>\n",
              "      <td>Scarborough</td>\n",
              "      <td>Scarborough Village</td>\n",
              "      <td>43.743125</td>\n",
              "      <td>-79.231750</td>\n",
              "    </tr>\n",
              "    <tr>\n",
              "      <th>6</th>\n",
              "      <td>M1K</td>\n",
              "      <td>Scarborough</td>\n",
              "      <td>East Birchmount Park, Ionview, Kennedy Park</td>\n",
              "      <td>43.726276</td>\n",
              "      <td>-79.263625</td>\n",
              "    </tr>\n",
              "    <tr>\n",
              "      <th>7</th>\n",
              "      <td>M1L</td>\n",
              "      <td>Scarborough</td>\n",
              "      <td>Clairlea, Golden Mile, Oakridge</td>\n",
              "      <td>43.713054</td>\n",
              "      <td>-79.285055</td>\n",
              "    </tr>\n",
              "    <tr>\n",
              "      <th>8</th>\n",
              "      <td>M1M</td>\n",
              "      <td>Scarborough</td>\n",
              "      <td>Cliffcrest, Cliffside, Scarborough Village West</td>\n",
              "      <td>43.724235</td>\n",
              "      <td>-79.227925</td>\n",
              "    </tr>\n",
              "    <tr>\n",
              "      <th>9</th>\n",
              "      <td>M1N</td>\n",
              "      <td>Scarborough</td>\n",
              "      <td>Birch Cliff, Cliffside West</td>\n",
              "      <td>43.696770</td>\n",
              "      <td>-79.259967</td>\n",
              "    </tr>\n",
              "    <tr>\n",
              "      <th>10</th>\n",
              "      <td>M1P</td>\n",
              "      <td>Scarborough</td>\n",
              "      <td>Dorset Park, Scarborough Town Centre, Wexford ...</td>\n",
              "      <td>43.759975</td>\n",
              "      <td>-79.268974</td>\n",
              "    </tr>\n",
              "    <tr>\n",
              "      <th>11</th>\n",
              "      <td>M1R</td>\n",
              "      <td>Scarborough</td>\n",
              "      <td>Maryvale, Wexford</td>\n",
              "      <td>43.750710</td>\n",
              "      <td>-79.300560</td>\n",
              "    </tr>\n",
              "    <tr>\n",
              "      <th>12</th>\n",
              "      <td>M1S</td>\n",
              "      <td>Scarborough</td>\n",
              "      <td>Agincourt</td>\n",
              "      <td>43.793940</td>\n",
              "      <td>-79.267976</td>\n",
              "    </tr>\n",
              "    <tr>\n",
              "      <th>13</th>\n",
              "      <td>M1T</td>\n",
              "      <td>Scarborough</td>\n",
              "      <td>Clarks Corners, Sullivan, Tam O'Shanter</td>\n",
              "      <td>43.784725</td>\n",
              "      <td>-79.299066</td>\n",
              "    </tr>\n",
              "    <tr>\n",
              "      <th>14</th>\n",
              "      <td>M1V</td>\n",
              "      <td>Scarborough</td>\n",
              "      <td>Agincourt North, L'Amoreaux East, Milliken, St...</td>\n",
              "      <td>43.817685</td>\n",
              "      <td>-79.280187</td>\n",
              "    </tr>\n",
              "  </tbody>\n",
              "</table>\n",
              "</div>"
            ],
            "text/plain": [
              "   Postalcode      Borough                                       Neighborhood  \\\n",
              "0         M1B  Scarborough                                     Rouge, Malvern   \n",
              "1         M1C  Scarborough             Highland Creek, Rouge Hill, Port Union   \n",
              "2         M1E  Scarborough                  Guildwood, Morningside, West Hill   \n",
              "3         M1G  Scarborough                                             Woburn   \n",
              "4         M1H  Scarborough                                          Cedarbrae   \n",
              "5         M1J  Scarborough                                Scarborough Village   \n",
              "6         M1K  Scarborough        East Birchmount Park, Ionview, Kennedy Park   \n",
              "7         M1L  Scarborough                    Clairlea, Golden Mile, Oakridge   \n",
              "8         M1M  Scarborough    Cliffcrest, Cliffside, Scarborough Village West   \n",
              "9         M1N  Scarborough                        Birch Cliff, Cliffside West   \n",
              "10        M1P  Scarborough  Dorset Park, Scarborough Town Centre, Wexford ...   \n",
              "11        M1R  Scarborough                                  Maryvale, Wexford   \n",
              "12        M1S  Scarborough                                          Agincourt   \n",
              "13        M1T  Scarborough            Clarks Corners, Sullivan, Tam O'Shanter   \n",
              "14        M1V  Scarborough  Agincourt North, L'Amoreaux East, Milliken, St...   \n",
              "\n",
              "     Latitude  Longitude  \n",
              "0   43.811525 -79.195517  \n",
              "1   43.785665 -79.158725  \n",
              "2   43.765815 -79.175193  \n",
              "3   43.768369 -79.217590  \n",
              "4   43.769688 -79.239440  \n",
              "5   43.743125 -79.231750  \n",
              "6   43.726276 -79.263625  \n",
              "7   43.713054 -79.285055  \n",
              "8   43.724235 -79.227925  \n",
              "9   43.696770 -79.259967  \n",
              "10  43.759975 -79.268974  \n",
              "11  43.750710 -79.300560  \n",
              "12  43.793940 -79.267976  \n",
              "13  43.784725 -79.299066  \n",
              "14  43.817685 -79.280187  "
            ]
          },
          "metadata": {
            "tags": []
          },
          "execution_count": 9
        }
      ]
    },
    {
      "cell_type": "code",
      "metadata": {
        "id": "iliKa2Qdr6MP"
      },
      "source": [
        "df.to_csv('toronto_part2.csv',index=False)"
      ],
      "execution_count": null,
      "outputs": []
    },
    {
      "cell_type": "code",
      "metadata": {
        "id": "Enx0XSx3r6MR"
      },
      "source": [
        ""
      ],
      "execution_count": null,
      "outputs": []
    }
  ]
}