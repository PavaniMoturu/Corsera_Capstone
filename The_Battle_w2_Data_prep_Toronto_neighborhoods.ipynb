{
  "nbformat": 4,
  "nbformat_minor": 0,
  "metadata": {
    "kernelspec": {
      "name": "python3",
      "display_name": "Python 3.7",
      "language": "python"
    },
    "language_info": {
      "name": "python",
      "version": "3.7.9",
      "mimetype": "text/x-python",
      "codemirror_mode": {
        "name": "ipython",
        "version": 3
      },
      "pygments_lexer": "ipython3",
      "nbconvert_exporter": "python",
      "file_extension": ".py"
    },
    "colab": {
      "name": "The Battle w2 - Data prep Toronto neighborhoods.ipynb",
      "provenance": [],
      "include_colab_link": true
    }
  },
  "cells": [
    {
      "cell_type": "markdown",
      "metadata": {
        "id": "view-in-github",
        "colab_type": "text"
      },
      "source": [
        "<a href=\"https://colab.research.google.com/github/PavaniMoturu/Corsera_Capstone/blob/main/The_Battle_w2_Data_prep_Toronto_neighborhoods.ipynb\" target=\"_parent\"><img src=\"https://colab.research.google.com/assets/colab-badge.svg\" alt=\"Open In Colab\"/></a>"
      ]
    },
    {
      "cell_type": "markdown",
      "metadata": {
        "collapsed": true,
        "id": "xH-le4hrw4AR"
      },
      "source": [
        "<h1 style=\"text-align: center\">Battle: Neighborhoods in Toronto - data preparation</h1>"
      ]
    },
    {
      "cell_type": "markdown",
      "metadata": {
        "id": "P__OAwWxw4AV"
      },
      "source": [
        "<h2>1. Prepare required Toronto neighborhoods data</h2>\n",
        "<h3>1.1 Scrape Toronto postal codes wiki page</h3>\n",
        "<p>Use the Notebook to build the code to scrape the following Wikipedia page, https://en.wikipedia.org/wiki/List_of_postal_codes_of_Canada:_M, in order to obtain the data that is in the table of postal codes and to transform the data into a pandas dataframe</p>"
      ]
    },
    {
      "cell_type": "code",
      "metadata": {
        "id": "aqTfHjwow4AV",
        "outputId": "b7c0bf16-3ef5-4c65-cbc8-12973a3b9bc1"
      },
      "source": [
        "!pip install beautifulsoup4\n",
        "!pip install lxml"
      ],
      "execution_count": null,
      "outputs": [
        {
          "output_type": "stream",
          "text": [
            "Requirement already satisfied: beautifulsoup4 in /opt/conda/envs/DSX-Python35/lib/python3.5/site-packages (4.6.0)\n",
            "\u001b[31mtensorflow 1.3.0 requires tensorflow-tensorboard<0.2.0,>=0.1.0, which is not installed.\u001b[0m\n",
            "Requirement already satisfied: lxml in /opt/conda/envs/DSX-Python35/lib/python3.5/site-packages (4.1.0)\n",
            "\u001b[31mtensorflow 1.3.0 requires tensorflow-tensorboard<0.2.0,>=0.1.0, which is not installed.\u001b[0m\n"
          ],
          "name": "stdout"
        }
      ]
    },
    {
      "cell_type": "code",
      "metadata": {
        "id": "N87Xlfulw4Aa"
      },
      "source": [
        "# import required modules\n",
        "from bs4 import BeautifulSoup\n",
        "import requests\n",
        "import pandas as pd\n",
        "import numpy as np"
      ],
      "execution_count": null,
      "outputs": []
    },
    {
      "cell_type": "code",
      "metadata": {
        "id": "Gm2WYPk_w4Ad"
      },
      "source": [
        "# assign link to Wiki page to variable\n",
        "wiki_Toronto_postal_codes = 'https://en.wikipedia.org/wiki/List_of_postal_codes_of_Canada:_M'"
      ],
      "execution_count": null,
      "outputs": []
    },
    {
      "cell_type": "markdown",
      "metadata": {
        "id": "hLcP6buCw4Ah"
      },
      "source": [
        "I will use **BeautifulSoup** together with *lxml* to scrape Wikipedia page"
      ]
    },
    {
      "cell_type": "code",
      "metadata": {
        "id": "ggCFXk-iw4Ah"
      },
      "source": [
        "# get page text and parse using BeautifulSoup\n",
        "source = requests.get(wiki_Toronto_postal_codes).text\n",
        "soup = BeautifulSoup(source, 'lxml')"
      ],
      "execution_count": null,
      "outputs": []
    },
    {
      "cell_type": "markdown",
      "metadata": {
        "id": "pak0Sm9qw4Ak"
      },
      "source": [
        "First I will find **table** HTML tag, then all table rows **tr** and all **td** cells within row, using nested loops.\n",
        "List of lists (rows data) is created, and then used to create pandas DataFrame.\n"
      ]
    },
    {
      "cell_type": "code",
      "metadata": {
        "id": "yyId1R4vw4Ak",
        "outputId": "d4045e9f-afd6-4a1d-d57c-703583037ba6"
      },
      "source": [
        "# table with data\n",
        "pcode_table = soup.find('table',{'class':'wikitable sortable'})\n",
        "table_data = []\n",
        "# find all table rows\n",
        "for tr in pcode_table.find_all('tr'):\n",
        "    row = []\n",
        "    # find all cells within row\n",
        "    for td in tr.find_all('td'):\n",
        "        # append extracted and trimmed cell text into row data  \n",
        "        row.append(td.get_text(strip=True))\n",
        "    # skip adding row to table_data in case is empty (header row)\n",
        "    if len(row):\n",
        "        table_data.append(row)\n",
        "# create data frame from list of lists\n",
        "df_wiki = pd.DataFrame(data=table_data, columns=['PostalCode', 'Borough', 'Neighborhood'])\n",
        "# filter out rows with Borough equal to 'Not assigned'\n",
        "df_wiki = df_wiki[df_wiki.Borough != 'Not assigned']\n",
        "df_wiki.head(15)\n"
      ],
      "execution_count": null,
      "outputs": [
        {
          "output_type": "execute_result",
          "data": {
            "text/html": [
              "<div>\n",
              "<style scoped>\n",
              "    .dataframe tbody tr th:only-of-type {\n",
              "        vertical-align: middle;\n",
              "    }\n",
              "\n",
              "    .dataframe tbody tr th {\n",
              "        vertical-align: top;\n",
              "    }\n",
              "\n",
              "    .dataframe thead th {\n",
              "        text-align: right;\n",
              "    }\n",
              "</style>\n",
              "<table border=\"1\" class=\"dataframe\">\n",
              "  <thead>\n",
              "    <tr style=\"text-align: right;\">\n",
              "      <th></th>\n",
              "      <th>PostalCode</th>\n",
              "      <th>Borough</th>\n",
              "      <th>Neighborhood</th>\n",
              "    </tr>\n",
              "  </thead>\n",
              "  <tbody>\n",
              "    <tr>\n",
              "      <th>2</th>\n",
              "      <td>M3A</td>\n",
              "      <td>North York</td>\n",
              "      <td>Parkwoods</td>\n",
              "    </tr>\n",
              "    <tr>\n",
              "      <th>3</th>\n",
              "      <td>M4A</td>\n",
              "      <td>North York</td>\n",
              "      <td>Victoria Village</td>\n",
              "    </tr>\n",
              "    <tr>\n",
              "      <th>4</th>\n",
              "      <td>M5A</td>\n",
              "      <td>Downtown Toronto</td>\n",
              "      <td>Harbourfront</td>\n",
              "    </tr>\n",
              "    <tr>\n",
              "      <th>5</th>\n",
              "      <td>M5A</td>\n",
              "      <td>Downtown Toronto</td>\n",
              "      <td>Regent Park</td>\n",
              "    </tr>\n",
              "    <tr>\n",
              "      <th>6</th>\n",
              "      <td>M6A</td>\n",
              "      <td>North York</td>\n",
              "      <td>Lawrence Heights</td>\n",
              "    </tr>\n",
              "    <tr>\n",
              "      <th>7</th>\n",
              "      <td>M6A</td>\n",
              "      <td>North York</td>\n",
              "      <td>Lawrence Manor</td>\n",
              "    </tr>\n",
              "    <tr>\n",
              "      <th>8</th>\n",
              "      <td>M7A</td>\n",
              "      <td>Queen's Park</td>\n",
              "      <td>Not assigned</td>\n",
              "    </tr>\n",
              "    <tr>\n",
              "      <th>10</th>\n",
              "      <td>M9A</td>\n",
              "      <td>Etobicoke</td>\n",
              "      <td>Islington Avenue</td>\n",
              "    </tr>\n",
              "    <tr>\n",
              "      <th>11</th>\n",
              "      <td>M1B</td>\n",
              "      <td>Scarborough</td>\n",
              "      <td>Rouge</td>\n",
              "    </tr>\n",
              "    <tr>\n",
              "      <th>12</th>\n",
              "      <td>M1B</td>\n",
              "      <td>Scarborough</td>\n",
              "      <td>Malvern</td>\n",
              "    </tr>\n",
              "    <tr>\n",
              "      <th>14</th>\n",
              "      <td>M3B</td>\n",
              "      <td>North York</td>\n",
              "      <td>Don Mills North</td>\n",
              "    </tr>\n",
              "    <tr>\n",
              "      <th>15</th>\n",
              "      <td>M4B</td>\n",
              "      <td>East York</td>\n",
              "      <td>Woodbine Gardens</td>\n",
              "    </tr>\n",
              "    <tr>\n",
              "      <th>16</th>\n",
              "      <td>M4B</td>\n",
              "      <td>East York</td>\n",
              "      <td>Parkview Hill</td>\n",
              "    </tr>\n",
              "    <tr>\n",
              "      <th>17</th>\n",
              "      <td>M5B</td>\n",
              "      <td>Downtown Toronto</td>\n",
              "      <td>Ryerson</td>\n",
              "    </tr>\n",
              "    <tr>\n",
              "      <th>18</th>\n",
              "      <td>M5B</td>\n",
              "      <td>Downtown Toronto</td>\n",
              "      <td>Garden District</td>\n",
              "    </tr>\n",
              "  </tbody>\n",
              "</table>\n",
              "</div>"
            ],
            "text/plain": [
              "   PostalCode           Borough      Neighborhood\n",
              "2         M3A        North York         Parkwoods\n",
              "3         M4A        North York  Victoria Village\n",
              "4         M5A  Downtown Toronto      Harbourfront\n",
              "5         M5A  Downtown Toronto       Regent Park\n",
              "6         M6A        North York  Lawrence Heights\n",
              "7         M6A        North York    Lawrence Manor\n",
              "8         M7A      Queen's Park      Not assigned\n",
              "10        M9A         Etobicoke  Islington Avenue\n",
              "11        M1B       Scarborough             Rouge\n",
              "12        M1B       Scarborough           Malvern\n",
              "14        M3B        North York   Don Mills North\n",
              "15        M4B         East York  Woodbine Gardens\n",
              "16        M4B         East York     Parkview Hill\n",
              "17        M5B  Downtown Toronto           Ryerson\n",
              "18        M5B  Downtown Toronto   Garden District"
            ]
          },
          "metadata": {
            "tags": []
          },
          "execution_count": 6
        }
      ]
    },
    {
      "cell_type": "markdown",
      "metadata": {
        "id": "bxD-r3Ymw4An"
      },
      "source": [
        "For *Neighborhood* with 'Not assigned' value, we need to use the *Borough* name "
      ]
    },
    {
      "cell_type": "code",
      "metadata": {
        "id": "Q2t_bnW3w4An"
      },
      "source": [
        "df_wiki.loc[df_wiki['Neighborhood'] == 'Not assigned','Neighborhood'] = df_wiki['Borough']"
      ],
      "execution_count": null,
      "outputs": []
    },
    {
      "cell_type": "markdown",
      "metadata": {
        "id": "CZS7Pd0_w4Aq"
      },
      "source": [
        "I will group data frame by **PostalCode** and **Borough**, and *apply* function join more than one neighborhood for one postal code area."
      ]
    },
    {
      "cell_type": "code",
      "metadata": {
        "id": "BcaKN8-hw4Aq",
        "outputId": "14bcd3c6-e30d-4c94-afa2-5f560fefb083"
      },
      "source": [
        "df_grouped = df_wiki.groupby(['PostalCode', 'Borough'])['Neighborhood'].apply(lambda neighborhoods: ', '.join(neighborhoods)).to_frame().reset_index()\n",
        "df_grouped.head(30)"
      ],
      "execution_count": null,
      "outputs": [
        {
          "output_type": "execute_result",
          "data": {
            "text/html": [
              "<div>\n",
              "<style scoped>\n",
              "    .dataframe tbody tr th:only-of-type {\n",
              "        vertical-align: middle;\n",
              "    }\n",
              "\n",
              "    .dataframe tbody tr th {\n",
              "        vertical-align: top;\n",
              "    }\n",
              "\n",
              "    .dataframe thead th {\n",
              "        text-align: right;\n",
              "    }\n",
              "</style>\n",
              "<table border=\"1\" class=\"dataframe\">\n",
              "  <thead>\n",
              "    <tr style=\"text-align: right;\">\n",
              "      <th></th>\n",
              "      <th>PostalCode</th>\n",
              "      <th>Borough</th>\n",
              "      <th>Neighborhood</th>\n",
              "    </tr>\n",
              "  </thead>\n",
              "  <tbody>\n",
              "    <tr>\n",
              "      <th>0</th>\n",
              "      <td>M1B</td>\n",
              "      <td>Scarborough</td>\n",
              "      <td>Rouge, Malvern</td>\n",
              "    </tr>\n",
              "    <tr>\n",
              "      <th>1</th>\n",
              "      <td>M1C</td>\n",
              "      <td>Scarborough</td>\n",
              "      <td>Highland Creek, Rouge Hill, Port Union</td>\n",
              "    </tr>\n",
              "    <tr>\n",
              "      <th>2</th>\n",
              "      <td>M1E</td>\n",
              "      <td>Scarborough</td>\n",
              "      <td>Guildwood, Morningside, West Hill</td>\n",
              "    </tr>\n",
              "    <tr>\n",
              "      <th>3</th>\n",
              "      <td>M1G</td>\n",
              "      <td>Scarborough</td>\n",
              "      <td>Woburn</td>\n",
              "    </tr>\n",
              "    <tr>\n",
              "      <th>4</th>\n",
              "      <td>M1H</td>\n",
              "      <td>Scarborough</td>\n",
              "      <td>Cedarbrae</td>\n",
              "    </tr>\n",
              "    <tr>\n",
              "      <th>5</th>\n",
              "      <td>M1J</td>\n",
              "      <td>Scarborough</td>\n",
              "      <td>Scarborough Village</td>\n",
              "    </tr>\n",
              "    <tr>\n",
              "      <th>6</th>\n",
              "      <td>M1K</td>\n",
              "      <td>Scarborough</td>\n",
              "      <td>East Birchmount Park, Ionview, Kennedy Park</td>\n",
              "    </tr>\n",
              "    <tr>\n",
              "      <th>7</th>\n",
              "      <td>M1L</td>\n",
              "      <td>Scarborough</td>\n",
              "      <td>Clairlea, Golden Mile, Oakridge</td>\n",
              "    </tr>\n",
              "    <tr>\n",
              "      <th>8</th>\n",
              "      <td>M1M</td>\n",
              "      <td>Scarborough</td>\n",
              "      <td>Cliffcrest, Cliffside, Scarborough Village West</td>\n",
              "    </tr>\n",
              "    <tr>\n",
              "      <th>9</th>\n",
              "      <td>M1N</td>\n",
              "      <td>Scarborough</td>\n",
              "      <td>Birch Cliff, Cliffside West</td>\n",
              "    </tr>\n",
              "    <tr>\n",
              "      <th>10</th>\n",
              "      <td>M1P</td>\n",
              "      <td>Scarborough</td>\n",
              "      <td>Dorset Park, Scarborough Town Centre, Wexford ...</td>\n",
              "    </tr>\n",
              "    <tr>\n",
              "      <th>11</th>\n",
              "      <td>M1R</td>\n",
              "      <td>Scarborough</td>\n",
              "      <td>Maryvale, Wexford</td>\n",
              "    </tr>\n",
              "    <tr>\n",
              "      <th>12</th>\n",
              "      <td>M1S</td>\n",
              "      <td>Scarborough</td>\n",
              "      <td>Agincourt</td>\n",
              "    </tr>\n",
              "    <tr>\n",
              "      <th>13</th>\n",
              "      <td>M1T</td>\n",
              "      <td>Scarborough</td>\n",
              "      <td>Clarks Corners, Sullivan, Tam O'Shanter</td>\n",
              "    </tr>\n",
              "    <tr>\n",
              "      <th>14</th>\n",
              "      <td>M1V</td>\n",
              "      <td>Scarborough</td>\n",
              "      <td>Agincourt North, L'Amoreaux East, Milliken, St...</td>\n",
              "    </tr>\n",
              "    <tr>\n",
              "      <th>15</th>\n",
              "      <td>M1W</td>\n",
              "      <td>Scarborough</td>\n",
              "      <td>L'Amoreaux West</td>\n",
              "    </tr>\n",
              "    <tr>\n",
              "      <th>16</th>\n",
              "      <td>M1X</td>\n",
              "      <td>Scarborough</td>\n",
              "      <td>Upper Rouge</td>\n",
              "    </tr>\n",
              "    <tr>\n",
              "      <th>17</th>\n",
              "      <td>M2H</td>\n",
              "      <td>North York</td>\n",
              "      <td>Hillcrest Village</td>\n",
              "    </tr>\n",
              "    <tr>\n",
              "      <th>18</th>\n",
              "      <td>M2J</td>\n",
              "      <td>North York</td>\n",
              "      <td>Fairview, Henry Farm, Oriole</td>\n",
              "    </tr>\n",
              "    <tr>\n",
              "      <th>19</th>\n",
              "      <td>M2K</td>\n",
              "      <td>North York</td>\n",
              "      <td>Bayview Village</td>\n",
              "    </tr>\n",
              "    <tr>\n",
              "      <th>20</th>\n",
              "      <td>M2L</td>\n",
              "      <td>North York</td>\n",
              "      <td>Silver Hills, York Mills</td>\n",
              "    </tr>\n",
              "    <tr>\n",
              "      <th>21</th>\n",
              "      <td>M2M</td>\n",
              "      <td>North York</td>\n",
              "      <td>Newtonbrook, Willowdale</td>\n",
              "    </tr>\n",
              "    <tr>\n",
              "      <th>22</th>\n",
              "      <td>M2N</td>\n",
              "      <td>North York</td>\n",
              "      <td>Willowdale South</td>\n",
              "    </tr>\n",
              "    <tr>\n",
              "      <th>23</th>\n",
              "      <td>M2P</td>\n",
              "      <td>North York</td>\n",
              "      <td>York Mills West</td>\n",
              "    </tr>\n",
              "    <tr>\n",
              "      <th>24</th>\n",
              "      <td>M2R</td>\n",
              "      <td>North York</td>\n",
              "      <td>Willowdale West</td>\n",
              "    </tr>\n",
              "    <tr>\n",
              "      <th>25</th>\n",
              "      <td>M3A</td>\n",
              "      <td>North York</td>\n",
              "      <td>Parkwoods</td>\n",
              "    </tr>\n",
              "    <tr>\n",
              "      <th>26</th>\n",
              "      <td>M3B</td>\n",
              "      <td>North York</td>\n",
              "      <td>Don Mills North</td>\n",
              "    </tr>\n",
              "    <tr>\n",
              "      <th>27</th>\n",
              "      <td>M3C</td>\n",
              "      <td>North York</td>\n",
              "      <td>Flemingdon Park, Don Mills South</td>\n",
              "    </tr>\n",
              "    <tr>\n",
              "      <th>28</th>\n",
              "      <td>M3H</td>\n",
              "      <td>North York</td>\n",
              "      <td>Bathurst Manor, Downsview North, Wilson Heights</td>\n",
              "    </tr>\n",
              "    <tr>\n",
              "      <th>29</th>\n",
              "      <td>M3J</td>\n",
              "      <td>North York</td>\n",
              "      <td>Northwood Park, York University</td>\n",
              "    </tr>\n",
              "  </tbody>\n",
              "</table>\n",
              "</div>"
            ],
            "text/plain": [
              "   PostalCode      Borough                                       Neighborhood\n",
              "0         M1B  Scarborough                                     Rouge, Malvern\n",
              "1         M1C  Scarborough             Highland Creek, Rouge Hill, Port Union\n",
              "2         M1E  Scarborough                  Guildwood, Morningside, West Hill\n",
              "3         M1G  Scarborough                                             Woburn\n",
              "4         M1H  Scarborough                                          Cedarbrae\n",
              "5         M1J  Scarborough                                Scarborough Village\n",
              "6         M1K  Scarborough        East Birchmount Park, Ionview, Kennedy Park\n",
              "7         M1L  Scarborough                    Clairlea, Golden Mile, Oakridge\n",
              "8         M1M  Scarborough    Cliffcrest, Cliffside, Scarborough Village West\n",
              "9         M1N  Scarborough                        Birch Cliff, Cliffside West\n",
              "10        M1P  Scarborough  Dorset Park, Scarborough Town Centre, Wexford ...\n",
              "11        M1R  Scarborough                                  Maryvale, Wexford\n",
              "12        M1S  Scarborough                                          Agincourt\n",
              "13        M1T  Scarborough            Clarks Corners, Sullivan, Tam O'Shanter\n",
              "14        M1V  Scarborough  Agincourt North, L'Amoreaux East, Milliken, St...\n",
              "15        M1W  Scarborough                                    L'Amoreaux West\n",
              "16        M1X  Scarborough                                        Upper Rouge\n",
              "17        M2H   North York                                  Hillcrest Village\n",
              "18        M2J   North York                       Fairview, Henry Farm, Oriole\n",
              "19        M2K   North York                                    Bayview Village\n",
              "20        M2L   North York                           Silver Hills, York Mills\n",
              "21        M2M   North York                            Newtonbrook, Willowdale\n",
              "22        M2N   North York                                   Willowdale South\n",
              "23        M2P   North York                                    York Mills West\n",
              "24        M2R   North York                                    Willowdale West\n",
              "25        M3A   North York                                          Parkwoods\n",
              "26        M3B   North York                                    Don Mills North\n",
              "27        M3C   North York                   Flemingdon Park, Don Mills South\n",
              "28        M3H   North York    Bathurst Manor, Downsview North, Wilson Heights\n",
              "29        M3J   North York                    Northwood Park, York University"
            ]
          },
          "metadata": {
            "tags": []
          },
          "execution_count": 8
        }
      ]
    },
    {
      "cell_type": "code",
      "metadata": {
        "id": "PHu6U8kRw4At",
        "outputId": "9174b130-de0a-41f8-938f-981aa8f22c59"
      },
      "source": [
        "# df_grouped shape\n",
        "print('Data frame shape: ', df_grouped.shape)\n",
        "df_grouped.head()"
      ],
      "execution_count": null,
      "outputs": [
        {
          "output_type": "stream",
          "text": [
            "Data frame shape:  (103, 3)\n"
          ],
          "name": "stdout"
        },
        {
          "output_type": "execute_result",
          "data": {
            "text/html": [
              "<div>\n",
              "<style scoped>\n",
              "    .dataframe tbody tr th:only-of-type {\n",
              "        vertical-align: middle;\n",
              "    }\n",
              "\n",
              "    .dataframe tbody tr th {\n",
              "        vertical-align: top;\n",
              "    }\n",
              "\n",
              "    .dataframe thead th {\n",
              "        text-align: right;\n",
              "    }\n",
              "</style>\n",
              "<table border=\"1\" class=\"dataframe\">\n",
              "  <thead>\n",
              "    <tr style=\"text-align: right;\">\n",
              "      <th></th>\n",
              "      <th>PostalCode</th>\n",
              "      <th>Borough</th>\n",
              "      <th>Neighborhood</th>\n",
              "    </tr>\n",
              "  </thead>\n",
              "  <tbody>\n",
              "    <tr>\n",
              "      <th>0</th>\n",
              "      <td>M1B</td>\n",
              "      <td>Scarborough</td>\n",
              "      <td>Rouge, Malvern</td>\n",
              "    </tr>\n",
              "    <tr>\n",
              "      <th>1</th>\n",
              "      <td>M1C</td>\n",
              "      <td>Scarborough</td>\n",
              "      <td>Highland Creek, Rouge Hill, Port Union</td>\n",
              "    </tr>\n",
              "    <tr>\n",
              "      <th>2</th>\n",
              "      <td>M1E</td>\n",
              "      <td>Scarborough</td>\n",
              "      <td>Guildwood, Morningside, West Hill</td>\n",
              "    </tr>\n",
              "    <tr>\n",
              "      <th>3</th>\n",
              "      <td>M1G</td>\n",
              "      <td>Scarborough</td>\n",
              "      <td>Woburn</td>\n",
              "    </tr>\n",
              "    <tr>\n",
              "      <th>4</th>\n",
              "      <td>M1H</td>\n",
              "      <td>Scarborough</td>\n",
              "      <td>Cedarbrae</td>\n",
              "    </tr>\n",
              "  </tbody>\n",
              "</table>\n",
              "</div>"
            ],
            "text/plain": [
              "  PostalCode      Borough                            Neighborhood\n",
              "0        M1B  Scarborough                          Rouge, Malvern\n",
              "1        M1C  Scarborough  Highland Creek, Rouge Hill, Port Union\n",
              "2        M1E  Scarborough       Guildwood, Morningside, West Hill\n",
              "3        M1G  Scarborough                                  Woburn\n",
              "4        M1H  Scarborough                               Cedarbrae"
            ]
          },
          "metadata": {
            "tags": []
          },
          "execution_count": 9
        }
      ]
    },
    {
      "cell_type": "code",
      "metadata": {
        "id": "IkGkrIfPw4Aw",
        "outputId": "dac0d537-1654-433e-b176-a62f38512a2c"
      },
      "source": [
        "# df_grouped.to_csv('neighborhood_toronto_grouped.csv')\n",
        "project.save_data(data=df_grouped.to_csv(index=False),file_name='neighborhood_toronto_grouped.csv',overwrite=True)"
      ],
      "execution_count": null,
      "outputs": [
        {
          "output_type": "execute_result",
          "data": {
            "text/plain": [
              "{'asset_id': '6a283801-00ef-40da-b7bb-df7ba4298b39',\n",
              " 'bucket_name': 'courseracapstone-donotdelete-pr-2afewjmpcmomni',\n",
              " 'file_name': 'neighborhood_toronto_grouped.csv',\n",
              " 'message': 'File saved to project storage.'}"
            ]
          },
          "metadata": {
            "tags": []
          },
          "execution_count": 12
        }
      ]
    },
    {
      "cell_type": "markdown",
      "metadata": {
        "id": "qAW5cYiKw4Ay"
      },
      "source": [
        "<h3>1.2 Get the latitude and the longitude coordinates of each postal code in data frame</h3>"
      ]
    },
    {
      "cell_type": "markdown",
      "metadata": {
        "id": "kBYsgSSow4Ay"
      },
      "source": [
        "<b>Note:</b> Unfortunately because unstable results, eigther using geogeocoder, Nominatim, and Nominatim with RateLimiter, I will use CSV from this location https://cocl.us/Geospatial_data. "
      ]
    },
    {
      "cell_type": "code",
      "metadata": {
        "id": "VBctSTjXw4Az",
        "outputId": "7d16f3b2-3a57-4ed1-a66a-20254b51811f"
      },
      "source": [
        "csv_url = 'https://cocl.us/Geospatial_data'\n",
        "df_location = pd.read_csv(csv_url)\n",
        "# rename column\n",
        "df_location.rename(index=str, columns={'Postal Code': 'PostalCode'}, inplace=True)\n",
        "df_location.head()"
      ],
      "execution_count": null,
      "outputs": [
        {
          "output_type": "execute_result",
          "data": {
            "text/html": [
              "<div>\n",
              "<style scoped>\n",
              "    .dataframe tbody tr th:only-of-type {\n",
              "        vertical-align: middle;\n",
              "    }\n",
              "\n",
              "    .dataframe tbody tr th {\n",
              "        vertical-align: top;\n",
              "    }\n",
              "\n",
              "    .dataframe thead th {\n",
              "        text-align: right;\n",
              "    }\n",
              "</style>\n",
              "<table border=\"1\" class=\"dataframe\">\n",
              "  <thead>\n",
              "    <tr style=\"text-align: right;\">\n",
              "      <th></th>\n",
              "      <th>PostalCode</th>\n",
              "      <th>Latitude</th>\n",
              "      <th>Longitude</th>\n",
              "    </tr>\n",
              "  </thead>\n",
              "  <tbody>\n",
              "    <tr>\n",
              "      <th>0</th>\n",
              "      <td>M1B</td>\n",
              "      <td>43.806686</td>\n",
              "      <td>-79.194353</td>\n",
              "    </tr>\n",
              "    <tr>\n",
              "      <th>1</th>\n",
              "      <td>M1C</td>\n",
              "      <td>43.784535</td>\n",
              "      <td>-79.160497</td>\n",
              "    </tr>\n",
              "    <tr>\n",
              "      <th>2</th>\n",
              "      <td>M1E</td>\n",
              "      <td>43.763573</td>\n",
              "      <td>-79.188711</td>\n",
              "    </tr>\n",
              "    <tr>\n",
              "      <th>3</th>\n",
              "      <td>M1G</td>\n",
              "      <td>43.770992</td>\n",
              "      <td>-79.216917</td>\n",
              "    </tr>\n",
              "    <tr>\n",
              "      <th>4</th>\n",
              "      <td>M1H</td>\n",
              "      <td>43.773136</td>\n",
              "      <td>-79.239476</td>\n",
              "    </tr>\n",
              "  </tbody>\n",
              "</table>\n",
              "</div>"
            ],
            "text/plain": [
              "  PostalCode   Latitude  Longitude\n",
              "0        M1B  43.806686 -79.194353\n",
              "1        M1C  43.784535 -79.160497\n",
              "2        M1E  43.763573 -79.188711\n",
              "3        M1G  43.770992 -79.216917\n",
              "4        M1H  43.773136 -79.239476"
            ]
          },
          "metadata": {
            "tags": []
          },
          "execution_count": 12
        }
      ]
    },
    {
      "cell_type": "code",
      "metadata": {
        "scrolled": true,
        "id": "l_zyrYYkw4A1",
        "outputId": "3d3b80ea-3b99-4090-b44f-e38cc7ed078f"
      },
      "source": [
        "# save to project\n",
        "project.save_data(data=df_location.to_csv(index=False),file_name='geospatial_data_toronto.csv',overwrite=True)"
      ],
      "execution_count": null,
      "outputs": [
        {
          "output_type": "execute_result",
          "data": {
            "text/plain": [
              "{'asset_id': 'b467b3ab-2ec3-48dd-966a-5c73b33842bd',\n",
              " 'bucket_name': 'courseracapstone-donotdelete-pr-2afewjmpcmomni',\n",
              " 'file_name': 'geospatial_data_toronto.csv',\n",
              " 'message': 'File saved to project storage.'}"
            ]
          },
          "metadata": {
            "tags": []
          },
          "execution_count": 14
        }
      ]
    },
    {
      "cell_type": "markdown",
      "metadata": {
        "id": "4fSgKYSYw4A3"
      },
      "source": [
        "<h3>1.3 Merge Toronto neighborhood data with geospatial_data</h3>"
      ]
    },
    {
      "cell_type": "code",
      "metadata": {
        "id": "GbZsYQuGw4A4",
        "outputId": "678f7e38-8581-4167-824e-d5722c15c80d"
      },
      "source": [
        "# marge datasets on PostalCode column value\n",
        "df_grouped_merged = pd.merge(df_grouped, df_location, on='PostalCode')\n",
        "df_grouped_merged.head()"
      ],
      "execution_count": null,
      "outputs": [
        {
          "output_type": "execute_result",
          "data": {
            "text/html": [
              "<div>\n",
              "<style scoped>\n",
              "    .dataframe tbody tr th:only-of-type {\n",
              "        vertical-align: middle;\n",
              "    }\n",
              "\n",
              "    .dataframe tbody tr th {\n",
              "        vertical-align: top;\n",
              "    }\n",
              "\n",
              "    .dataframe thead th {\n",
              "        text-align: right;\n",
              "    }\n",
              "</style>\n",
              "<table border=\"1\" class=\"dataframe\">\n",
              "  <thead>\n",
              "    <tr style=\"text-align: right;\">\n",
              "      <th></th>\n",
              "      <th>PostalCode</th>\n",
              "      <th>Borough</th>\n",
              "      <th>Neighborhood</th>\n",
              "      <th>Latitude</th>\n",
              "      <th>Longitude</th>\n",
              "    </tr>\n",
              "  </thead>\n",
              "  <tbody>\n",
              "    <tr>\n",
              "      <th>0</th>\n",
              "      <td>M1B</td>\n",
              "      <td>Scarborough</td>\n",
              "      <td>Rouge, Malvern</td>\n",
              "      <td>43.806686</td>\n",
              "      <td>-79.194353</td>\n",
              "    </tr>\n",
              "    <tr>\n",
              "      <th>1</th>\n",
              "      <td>M1C</td>\n",
              "      <td>Scarborough</td>\n",
              "      <td>Highland Creek, Rouge Hill, Port Union</td>\n",
              "      <td>43.784535</td>\n",
              "      <td>-79.160497</td>\n",
              "    </tr>\n",
              "    <tr>\n",
              "      <th>2</th>\n",
              "      <td>M1E</td>\n",
              "      <td>Scarborough</td>\n",
              "      <td>Guildwood, Morningside, West Hill</td>\n",
              "      <td>43.763573</td>\n",
              "      <td>-79.188711</td>\n",
              "    </tr>\n",
              "    <tr>\n",
              "      <th>3</th>\n",
              "      <td>M1G</td>\n",
              "      <td>Scarborough</td>\n",
              "      <td>Woburn</td>\n",
              "      <td>43.770992</td>\n",
              "      <td>-79.216917</td>\n",
              "    </tr>\n",
              "    <tr>\n",
              "      <th>4</th>\n",
              "      <td>M1H</td>\n",
              "      <td>Scarborough</td>\n",
              "      <td>Cedarbrae</td>\n",
              "      <td>43.773136</td>\n",
              "      <td>-79.239476</td>\n",
              "    </tr>\n",
              "  </tbody>\n",
              "</table>\n",
              "</div>"
            ],
            "text/plain": [
              "  PostalCode      Borough                            Neighborhood   Latitude  \\\n",
              "0        M1B  Scarborough                          Rouge, Malvern  43.806686   \n",
              "1        M1C  Scarborough  Highland Creek, Rouge Hill, Port Union  43.784535   \n",
              "2        M1E  Scarborough       Guildwood, Morningside, West Hill  43.763573   \n",
              "3        M1G  Scarborough                                  Woburn  43.770992   \n",
              "4        M1H  Scarborough                               Cedarbrae  43.773136   \n",
              "\n",
              "   Longitude  \n",
              "0 -79.194353  \n",
              "1 -79.160497  \n",
              "2 -79.188711  \n",
              "3 -79.216917  \n",
              "4 -79.239476  "
            ]
          },
          "metadata": {
            "tags": []
          },
          "execution_count": 15
        }
      ]
    },
    {
      "cell_type": "code",
      "metadata": {
        "id": "WCTRIpgkw4A7",
        "outputId": "fee0f2b3-a8bc-4f33-fb6a-2664aa3f14fd"
      },
      "source": [
        "print('Shape of df_grouped_merged', df_grouped_merged.shape)\n",
        "# save to project\n",
        "project.save_data(data=df_grouped_merged.to_csv(index=False),file_name='neighborhood_toronto_geospatial_data.csv',overwrite=True)"
      ],
      "execution_count": null,
      "outputs": [
        {
          "output_type": "stream",
          "text": [
            "Shape of df_grouped_merged (103, 5)\n"
          ],
          "name": "stdout"
        },
        {
          "output_type": "execute_result",
          "data": {
            "text/plain": [
              "{'asset_id': '2f1db118-8aa8-426b-b82f-026ff11db168',\n",
              " 'bucket_name': 'courseracapstone-donotdelete-pr-2afewjmpcmomni',\n",
              " 'file_name': 'neighborhood_toronto_geospatial_data.csv',\n",
              " 'message': 'File saved to project storage.'}"
            ]
          },
          "metadata": {
            "tags": []
          },
          "execution_count": 16
        }
      ]
    },
    {
      "cell_type": "markdown",
      "metadata": {
        "id": "1mVyicrJw4A9"
      },
      "source": [
        "<h2>Summary</h2>\n",
        "<p>I've prepared CSV files with Toronto neighborhoods data, for later use, during Coursera Capstone assignment.</p>\n",
        "<ul>\n",
        "    <li>neighborhood_toronto_grouped.csv - <b>PostalCode, Borough, Neighborhood</b> cleaned and grouped by PostalCode\n",
        "    <li>geospatial_data_toronto.csv - <b>PostalCode, Latitude, Longitude</b> for Toronto postal codes\n",
        "    <li>neighborhood_toronto_geospatial_data.csv - <b>PostalCode, Borough, Neighborhood, Latitude, Longitude</b> for each Toronto postal code\n",
        "</ul>\n",
        "<p><b>Note:</b> The <b>neighborhood_toronto_geospatial_data.csv</b> will be used as initial data for Toronto neighborhoods.</p>"
      ]
    },
    {
      "cell_type": "code",
      "metadata": {
        "id": "BtheAOyEw4A-"
      },
      "source": [
        ""
      ],
      "execution_count": null,
      "outputs": []
    }
  ]
}