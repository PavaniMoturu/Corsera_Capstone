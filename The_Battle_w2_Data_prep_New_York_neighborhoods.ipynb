{
  "nbformat": 4,
  "nbformat_minor": 0,
  "metadata": {
    "kernelspec": {
      "name": "python3",
      "display_name": "Python 3.7",
      "language": "python"
    },
    "language_info": {
      "name": "python",
      "version": "3.7.9",
      "mimetype": "text/x-python",
      "codemirror_mode": {
        "name": "ipython",
        "version": 3
      },
      "pygments_lexer": "ipython3",
      "nbconvert_exporter": "python",
      "file_extension": ".py"
    },
    "colab": {
      "name": "The Battle w2 - Data prep New York neighborhoods.ipynb",
      "provenance": [],
      "include_colab_link": true
    }
  },
  "cells": [
    {
      "cell_type": "markdown",
      "metadata": {
        "id": "view-in-github",
        "colab_type": "text"
      },
      "source": [
        "<a href=\"https://colab.research.google.com/github/PavaniMoturu/Corsera_Capstone/blob/main/The_Battle_w2_Data_prep_New_York_neighborhoods.ipynb\" target=\"_parent\"><img src=\"https://colab.research.google.com/assets/colab-badge.svg\" alt=\"Open In Colab\"/></a>"
      ]
    },
    {
      "cell_type": "markdown",
      "metadata": {
        "id": "r5i6e0AYwR8s"
      },
      "source": [
        "<h1 style=\"text-align: center\">Battle: Neighborhoods in New York - data preparation</h1>"
      ]
    },
    {
      "cell_type": "markdown",
      "metadata": {
        "id": "nkI3xv_LwR8x"
      },
      "source": [
        "<h2>Introduction</h2>\n",
        "<p>I will use this notebook to prepare data about New York Neighborhoods, and save them as CSV. Prepared data will be used as starting point in another notebook</p>"
      ]
    },
    {
      "cell_type": "markdown",
      "metadata": {
        "id": "Ur6tjE52wR8y"
      },
      "source": [
        "Before I get the data, let's download all the dependencies that we will need."
      ]
    },
    {
      "cell_type": "code",
      "metadata": {
        "id": "UeWXWTYXwR8y",
        "outputId": "92b27fa9-2253-42bf-a4ca-0c2bb64ca307"
      },
      "source": [
        "import numpy as np # library to handle data in a vectorized manner\n",
        "\n",
        "import pandas as pd # library for data analsysis\n",
        "pd.set_option('display.max_columns', None)\n",
        "pd.set_option('display.max_rows', None)\n",
        "\n",
        "import json # library to handle JSON files\n",
        "\n",
        "#!conda install -c conda-forge geopy --yes # uncomment this line if you haven't completed the Foursquare API lab\n",
        "from geopy.geocoders import Nominatim # convert an address into latitude and longitude values\n",
        "\n",
        "import requests # library to handle requests\n",
        "from pandas.io.json import json_normalize # tranform JSON file into a pandas dataframe\n",
        "\n",
        "print('Libraries imported.')"
      ],
      "execution_count": null,
      "outputs": [
        {
          "output_type": "stream",
          "text": [
            "Libraries imported.\n"
          ],
          "name": "stdout"
        }
      ]
    },
    {
      "cell_type": "markdown",
      "metadata": {
        "id": "MK8eWHM3wR88"
      },
      "source": [
        "<a id='item1'></a>"
      ]
    },
    {
      "cell_type": "markdown",
      "metadata": {
        "id": "ySXqFbjzwR89"
      },
      "source": [
        "<h3>1.1 Download Dataset</h3>"
      ]
    },
    {
      "cell_type": "markdown",
      "metadata": {
        "id": "sno-8h-NwR8-"
      },
      "source": [
        "New York has a total of 5 boroughs and 306 neighborhoods. In order to segement the neighborhoods and explore them, we will essentially need a dataset that contains the 5 boroughs and the neighborhoods that exist in each borough as well as the the latitude and logitude coordinates of each neighborhood. \n",
        "\n",
        "This dataset exists for free on the web. Here is the link to the dataset: https://geo.nyu.edu/catalog/nyu_2451_34572 (https://cocl.us/new_york_dataset)."
      ]
    },
    {
      "cell_type": "markdown",
      "metadata": {
        "id": "6L537phWwR9A"
      },
      "source": [
        "Run a `wget` command and access the data."
      ]
    },
    {
      "cell_type": "code",
      "metadata": {
        "scrolled": true,
        "id": "qhiVyY1JwR9B",
        "outputId": "7390b0ba-393e-4ff6-e16b-1ed166de91f9"
      },
      "source": [
        "!wget -q -O 'newyork_data.json' https://cocl.us/new_york_dataset\n",
        "print('Data downloaded!')"
      ],
      "execution_count": null,
      "outputs": [
        {
          "output_type": "stream",
          "text": [
            "Data downloaded!\n"
          ],
          "name": "stdout"
        }
      ]
    },
    {
      "cell_type": "markdown",
      "metadata": {
        "id": "pqpgUAPzwR9H"
      },
      "source": [
        "Let's load the data using json.load"
      ]
    },
    {
      "cell_type": "code",
      "metadata": {
        "id": "MY6sW1VvwR9I"
      },
      "source": [
        "with open('newyork_data.json') as json_data:\n",
        "    newyork_data = json.load(json_data)"
      ],
      "execution_count": null,
      "outputs": []
    },
    {
      "cell_type": "markdown",
      "metadata": {
        "id": "KSieUnRDwR9K"
      },
      "source": [
        "Let's take a quick look at the data, for one neighborhood. The *features* key contains list of neighborhoods. Then lets filter only first one."
      ]
    },
    {
      "cell_type": "code",
      "metadata": {
        "id": "2syeacAzwR9L",
        "outputId": "d8275e86-5816-49f3-8773-ae5f30e73fa9"
      },
      "source": [
        "newyork_data['features'][0:1]"
      ],
      "execution_count": null,
      "outputs": [
        {
          "output_type": "execute_result",
          "data": {
            "text/plain": [
              "[{'geometry': {'coordinates': [-73.84720052054902, 40.89470517661],\n",
              "   'type': 'Point'},\n",
              "  'geometry_name': 'geom',\n",
              "  'id': 'nyu_2451_34572.1',\n",
              "  'properties': {'annoangle': 0.0,\n",
              "   'annoline1': 'Wakefield',\n",
              "   'annoline2': None,\n",
              "   'annoline3': None,\n",
              "   'bbox': [-73.84720052054902,\n",
              "    40.89470517661,\n",
              "    -73.84720052054902,\n",
              "    40.89470517661],\n",
              "   'borough': 'Bronx',\n",
              "   'name': 'Wakefield',\n",
              "   'stacked': 1},\n",
              "  'type': 'Feature'}]"
            ]
          },
          "metadata": {
            "tags": []
          },
          "execution_count": 10
        }
      ]
    },
    {
      "cell_type": "code",
      "metadata": {
        "id": "ngExOfH1wR9O"
      },
      "source": [
        "neighborhoods_data = newyork_data['features']"
      ],
      "execution_count": null,
      "outputs": []
    },
    {
      "cell_type": "markdown",
      "metadata": {
        "id": "SRaNQrxfwR9S"
      },
      "source": [
        "<h3>1.2 Tranform the data into a pandas dataframe</h3>"
      ]
    },
    {
      "cell_type": "markdown",
      "metadata": {
        "id": "key8rRJiwR9S"
      },
      "source": [
        "The next task is essentially transforming this data of nested Python dictionaries into a *pandas* dataframe. So let's start by creating an empty dataframe."
      ]
    },
    {
      "cell_type": "code",
      "metadata": {
        "id": "BbZWTCkawR9S"
      },
      "source": [
        "# define the dataframe columns\n",
        "column_names = ['Borough', 'Neighborhood', 'Latitude', 'Longitude'] \n",
        "\n",
        "# instantiate the dataframe\n",
        "neighborhoods = pd.DataFrame(columns=column_names)"
      ],
      "execution_count": null,
      "outputs": []
    },
    {
      "cell_type": "markdown",
      "metadata": {
        "id": "2TT5pNlhwR9V"
      },
      "source": [
        "Loop through the data and fill the dataframe one row at a time."
      ]
    },
    {
      "cell_type": "code",
      "metadata": {
        "id": "6sNXggsgwR9W"
      },
      "source": [
        "for data in neighborhoods_data:\n",
        "    borough = neighborhood_name = data['properties']['borough'] \n",
        "    neighborhood_name = data['properties']['name']\n",
        "        \n",
        "    neighborhood_latlon = data['geometry']['coordinates']\n",
        "    neighborhood_lat = neighborhood_latlon[1]\n",
        "    neighborhood_lon = neighborhood_latlon[0]\n",
        "    \n",
        "    neighborhoods = neighborhoods.append({'Borough': borough,\n",
        "                                          'Neighborhood': neighborhood_name,\n",
        "                                          'Latitude': neighborhood_lat,\n",
        "                                          'Longitude': neighborhood_lon}, ignore_index=True)"
      ],
      "execution_count": null,
      "outputs": []
    },
    {
      "cell_type": "markdown",
      "metadata": {
        "id": "vnrOlvtvwR9a"
      },
      "source": [
        "Examine the dataframe which was crated."
      ]
    },
    {
      "cell_type": "code",
      "metadata": {
        "scrolled": true,
        "id": "7MURPzQcwR9a",
        "outputId": "a1beb66a-fb6d-4479-ee55-b308a36f44ec"
      },
      "source": [
        "neighborhoods.head()"
      ],
      "execution_count": null,
      "outputs": [
        {
          "output_type": "execute_result",
          "data": {
            "text/html": [
              "<div>\n",
              "<style scoped>\n",
              "    .dataframe tbody tr th:only-of-type {\n",
              "        vertical-align: middle;\n",
              "    }\n",
              "\n",
              "    .dataframe tbody tr th {\n",
              "        vertical-align: top;\n",
              "    }\n",
              "\n",
              "    .dataframe thead th {\n",
              "        text-align: right;\n",
              "    }\n",
              "</style>\n",
              "<table border=\"1\" class=\"dataframe\">\n",
              "  <thead>\n",
              "    <tr style=\"text-align: right;\">\n",
              "      <th></th>\n",
              "      <th>Borough</th>\n",
              "      <th>Neighborhood</th>\n",
              "      <th>Latitude</th>\n",
              "      <th>Longitude</th>\n",
              "    </tr>\n",
              "  </thead>\n",
              "  <tbody>\n",
              "    <tr>\n",
              "      <th>0</th>\n",
              "      <td>Bronx</td>\n",
              "      <td>Wakefield</td>\n",
              "      <td>40.894705</td>\n",
              "      <td>-73.847201</td>\n",
              "    </tr>\n",
              "    <tr>\n",
              "      <th>1</th>\n",
              "      <td>Bronx</td>\n",
              "      <td>Co-op City</td>\n",
              "      <td>40.874294</td>\n",
              "      <td>-73.829939</td>\n",
              "    </tr>\n",
              "    <tr>\n",
              "      <th>2</th>\n",
              "      <td>Bronx</td>\n",
              "      <td>Eastchester</td>\n",
              "      <td>40.887556</td>\n",
              "      <td>-73.827806</td>\n",
              "    </tr>\n",
              "    <tr>\n",
              "      <th>3</th>\n",
              "      <td>Bronx</td>\n",
              "      <td>Fieldston</td>\n",
              "      <td>40.895437</td>\n",
              "      <td>-73.905643</td>\n",
              "    </tr>\n",
              "    <tr>\n",
              "      <th>4</th>\n",
              "      <td>Bronx</td>\n",
              "      <td>Riverdale</td>\n",
              "      <td>40.890834</td>\n",
              "      <td>-73.912585</td>\n",
              "    </tr>\n",
              "  </tbody>\n",
              "</table>\n",
              "</div>"
            ],
            "text/plain": [
              "  Borough Neighborhood   Latitude  Longitude\n",
              "0   Bronx    Wakefield  40.894705 -73.847201\n",
              "1   Bronx   Co-op City  40.874294 -73.829939\n",
              "2   Bronx  Eastchester  40.887556 -73.827806\n",
              "3   Bronx    Fieldston  40.895437 -73.905643\n",
              "4   Bronx    Riverdale  40.890834 -73.912585"
            ]
          },
          "metadata": {
            "tags": []
          },
          "execution_count": 14
        }
      ]
    },
    {
      "cell_type": "markdown",
      "metadata": {
        "id": "wEfq04YfwR9e"
      },
      "source": [
        "Make sure that the dataset has all 5 boroughs and 306 neighborhoods."
      ]
    },
    {
      "cell_type": "code",
      "metadata": {
        "id": "sFtNGS6vwR9e",
        "outputId": "cf76e158-8eb1-49c2-d1f5-d443824ee6fa"
      },
      "source": [
        "print('The dataframe has {} boroughs and {} neighborhoods.'.format(\n",
        "        len(neighborhoods['Borough'].unique()),\n",
        "        neighborhoods.shape[0]\n",
        "    )\n",
        ")"
      ],
      "execution_count": null,
      "outputs": [
        {
          "output_type": "stream",
          "text": [
            "The dataframe has 5 boroughs and 306 neighborhoods.\n"
          ],
          "name": "stdout"
        }
      ]
    },
    {
      "cell_type": "markdown",
      "metadata": {
        "id": "T1FROQt3wR9h"
      },
      "source": [
        "<h3>1.3 Save New York neighborhoods as CSV</h3>"
      ]
    },
    {
      "cell_type": "code",
      "metadata": {
        "id": "-l4TXmuwwR9h",
        "outputId": "e87d6996-6084-44f2-b432-b27649510ab8"
      },
      "source": [
        "# save to project\n",
        "project.save_data(data=neighborhoods.to_csv(index=False),file_name='neighborhood_new_york_geospatial_data.csv',overwrite=True)"
      ],
      "execution_count": null,
      "outputs": [
        {
          "output_type": "execute_result",
          "data": {
            "text/plain": [
              "{'asset_id': '60bc572d-d440-496a-b620-d17ac8b92e8f',\n",
              " 'bucket_name': 'courseracapstone-donotdelete-pr-2afewjmpcmomni',\n",
              " 'file_name': 'neighborhood_new_york_geospatial_data.csv',\n",
              " 'message': 'File saved to project storage.'}"
            ]
          },
          "metadata": {
            "tags": []
          },
          "execution_count": 16
        }
      ]
    },
    {
      "cell_type": "markdown",
      "metadata": {
        "id": "g_uYHhdLwR9k"
      },
      "source": [
        "<h2>Summary</h2>\n",
        "<p>I've prepared CSV file with New York neighborhoods data, for later use, during Coursera Capstone assignment.</p>\n",
        "<ul>\n",
        "    <li>neighborhood_new_york_geospatial_data.csv - <b>Borough, Neighborhood, Latitude, Longitude</b> for each New York Neighborhood\n",
        "</ul>\n",
        "<p><b>Note:</b> The <b>neighborhood_new_york_geospatial_data.csv</b> will be used as initial data for New York neighborhoods.</p>"
      ]
    },
    {
      "cell_type": "code",
      "metadata": {
        "id": "26ZM82QqwR9k"
      },
      "source": [
        ""
      ],
      "execution_count": null,
      "outputs": []
    }
  ]
}